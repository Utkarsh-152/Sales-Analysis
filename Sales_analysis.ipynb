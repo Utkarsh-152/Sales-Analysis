{
 "cells": [
  {
   "cell_type": "markdown",
   "id": "025722bd-6452-41e8-8af0-6f8bd45608d9",
   "metadata": {},
   "source": [
    "## Sales Analysis"
   ]
  },
  {
   "cell_type": "code",
   "execution_count": 1,
   "id": "34beebd4-8d34-4da4-b332-884f231cfbaa",
   "metadata": {},
   "outputs": [],
   "source": [
    "import pandas as pd\n",
    "import numpy as np\n",
    "import matplotlib.pyplot as plt\n",
    "import seaborn as sns"
   ]
  },
  {
   "cell_type": "code",
   "execution_count": 2,
   "id": "410f073a-badb-4722-b19a-15a3bf083f70",
   "metadata": {},
   "outputs": [
    {
     "data": {
      "text/html": [
       "<div>\n",
       "<style scoped>\n",
       "    .dataframe tbody tr th:only-of-type {\n",
       "        vertical-align: middle;\n",
       "    }\n",
       "\n",
       "    .dataframe tbody tr th {\n",
       "        vertical-align: top;\n",
       "    }\n",
       "\n",
       "    .dataframe thead th {\n",
       "        text-align: right;\n",
       "    }\n",
       "</style>\n",
       "<table border=\"1\" class=\"dataframe\">\n",
       "  <thead>\n",
       "    <tr style=\"text-align: right;\">\n",
       "      <th></th>\n",
       "      <th>Date</th>\n",
       "      <th>Time</th>\n",
       "      <th>State</th>\n",
       "      <th>Group</th>\n",
       "      <th>Unit</th>\n",
       "      <th>Sales</th>\n",
       "    </tr>\n",
       "  </thead>\n",
       "  <tbody>\n",
       "    <tr>\n",
       "      <th>0</th>\n",
       "      <td>1-Oct-2020</td>\n",
       "      <td>Morning</td>\n",
       "      <td>WA</td>\n",
       "      <td>Kids</td>\n",
       "      <td>8</td>\n",
       "      <td>20000</td>\n",
       "    </tr>\n",
       "    <tr>\n",
       "      <th>1</th>\n",
       "      <td>1-Oct-2020</td>\n",
       "      <td>Morning</td>\n",
       "      <td>WA</td>\n",
       "      <td>Men</td>\n",
       "      <td>8</td>\n",
       "      <td>20000</td>\n",
       "    </tr>\n",
       "    <tr>\n",
       "      <th>2</th>\n",
       "      <td>1-Oct-2020</td>\n",
       "      <td>Morning</td>\n",
       "      <td>WA</td>\n",
       "      <td>Women</td>\n",
       "      <td>4</td>\n",
       "      <td>10000</td>\n",
       "    </tr>\n",
       "    <tr>\n",
       "      <th>3</th>\n",
       "      <td>1-Oct-2020</td>\n",
       "      <td>Morning</td>\n",
       "      <td>WA</td>\n",
       "      <td>Seniors</td>\n",
       "      <td>15</td>\n",
       "      <td>37500</td>\n",
       "    </tr>\n",
       "    <tr>\n",
       "      <th>4</th>\n",
       "      <td>1-Oct-2020</td>\n",
       "      <td>Afternoon</td>\n",
       "      <td>WA</td>\n",
       "      <td>Kids</td>\n",
       "      <td>3</td>\n",
       "      <td>7500</td>\n",
       "    </tr>\n",
       "    <tr>\n",
       "      <th>...</th>\n",
       "      <td>...</td>\n",
       "      <td>...</td>\n",
       "      <td>...</td>\n",
       "      <td>...</td>\n",
       "      <td>...</td>\n",
       "      <td>...</td>\n",
       "    </tr>\n",
       "    <tr>\n",
       "      <th>95</th>\n",
       "      <td>2-Oct-2020</td>\n",
       "      <td>Evening</td>\n",
       "      <td>WA</td>\n",
       "      <td>Seniors</td>\n",
       "      <td>6</td>\n",
       "      <td>15000</td>\n",
       "    </tr>\n",
       "    <tr>\n",
       "      <th>96</th>\n",
       "      <td>2-Oct-2020</td>\n",
       "      <td>Morning</td>\n",
       "      <td>NT</td>\n",
       "      <td>Kids</td>\n",
       "      <td>5</td>\n",
       "      <td>12500</td>\n",
       "    </tr>\n",
       "    <tr>\n",
       "      <th>97</th>\n",
       "      <td>2-Oct-2020</td>\n",
       "      <td>Morning</td>\n",
       "      <td>NT</td>\n",
       "      <td>Men</td>\n",
       "      <td>13</td>\n",
       "      <td>32500</td>\n",
       "    </tr>\n",
       "    <tr>\n",
       "      <th>98</th>\n",
       "      <td>2-Oct-2020</td>\n",
       "      <td>Morning</td>\n",
       "      <td>NT</td>\n",
       "      <td>Women</td>\n",
       "      <td>13</td>\n",
       "      <td>32500</td>\n",
       "    </tr>\n",
       "    <tr>\n",
       "      <th>99</th>\n",
       "      <td>2-Oct-2020</td>\n",
       "      <td>Morning</td>\n",
       "      <td>NT</td>\n",
       "      <td>Seniors</td>\n",
       "      <td>13</td>\n",
       "      <td>32500</td>\n",
       "    </tr>\n",
       "  </tbody>\n",
       "</table>\n",
       "<p>100 rows × 6 columns</p>\n",
       "</div>"
      ],
      "text/plain": [
       "          Date        Time State     Group  Unit  Sales\n",
       "0   1-Oct-2020     Morning    WA      Kids     8  20000\n",
       "1   1-Oct-2020     Morning    WA       Men     8  20000\n",
       "2   1-Oct-2020     Morning    WA     Women     4  10000\n",
       "3   1-Oct-2020     Morning    WA   Seniors    15  37500\n",
       "4   1-Oct-2020   Afternoon    WA      Kids     3   7500\n",
       "..         ...         ...   ...       ...   ...    ...\n",
       "95  2-Oct-2020     Evening    WA   Seniors     6  15000\n",
       "96  2-Oct-2020     Morning    NT      Kids     5  12500\n",
       "97  2-Oct-2020     Morning    NT       Men    13  32500\n",
       "98  2-Oct-2020     Morning    NT     Women    13  32500\n",
       "99  2-Oct-2020     Morning    NT   Seniors    13  32500\n",
       "\n",
       "[100 rows x 6 columns]"
      ]
     },
     "execution_count": 2,
     "metadata": {},
     "output_type": "execute_result"
    }
   ],
   "source": [
    "data = pd.read_csv('AusApparalSales4thQrt2020.csv')\n",
    "data.head(100)"
   ]
  },
  {
   "cell_type": "markdown",
   "id": "d334893e-3c86-444b-8f92-cbde3d4672a6",
   "metadata": {},
   "source": [
    "### Data wrangling and Feature Engineering"
   ]
  },
  {
   "cell_type": "code",
   "execution_count": 3,
   "id": "2dc8fd36-e559-47e9-a6e9-dab20eac48b8",
   "metadata": {},
   "outputs": [
    {
     "data": {
      "text/plain": [
       "Date     0\n",
       "Time     0\n",
       "State    0\n",
       "Group    0\n",
       "Unit     0\n",
       "Sales    0\n",
       "dtype: int64"
      ]
     },
     "execution_count": 3,
     "metadata": {},
     "output_type": "execute_result"
    }
   ],
   "source": [
    "data.isnull().sum()"
   ]
  },
  {
   "cell_type": "code",
   "execution_count": 4,
   "id": "b9660006-7a3c-401d-b0b6-b5ecbfeac755",
   "metadata": {},
   "outputs": [
    {
     "name": "stdout",
     "output_type": "stream",
     "text": [
      "Time\n",
      "Morning      2520\n",
      "Afternoon    2520\n",
      "Evening      2520\n",
      "Name: count, dtype: int64\n",
      "State\n",
      "WA     1080\n",
      "NT     1080\n",
      "SA     1080\n",
      "VIC    1080\n",
      "QLD    1080\n",
      "NSW    1080\n",
      "TAS    1080\n",
      "Name: count, dtype: int64\n",
      "Group\n",
      "Kids       1890\n",
      "Men        1890\n",
      "Women      1890\n",
      "Seniors    1890\n",
      "Name: count, dtype: int64\n"
     ]
    }
   ],
   "source": [
    "for columns in ['Time','State','Group']:\n",
    "    print(data[columns].value_counts())"
   ]
  },
  {
   "cell_type": "code",
   "execution_count": 5,
   "id": "40dc09a8-6217-4956-b1cf-29e469af646d",
   "metadata": {},
   "outputs": [
    {
     "data": {
      "text/html": [
       "<div>\n",
       "<style scoped>\n",
       "    .dataframe tbody tr th:only-of-type {\n",
       "        vertical-align: middle;\n",
       "    }\n",
       "\n",
       "    .dataframe tbody tr th {\n",
       "        vertical-align: top;\n",
       "    }\n",
       "\n",
       "    .dataframe thead th {\n",
       "        text-align: right;\n",
       "    }\n",
       "</style>\n",
       "<table border=\"1\" class=\"dataframe\">\n",
       "  <thead>\n",
       "    <tr style=\"text-align: right;\">\n",
       "      <th></th>\n",
       "      <th>Date</th>\n",
       "      <th>Time</th>\n",
       "      <th>State</th>\n",
       "      <th>Group</th>\n",
       "      <th>Unit</th>\n",
       "      <th>Sales</th>\n",
       "      <th>time_encod</th>\n",
       "    </tr>\n",
       "  </thead>\n",
       "  <tbody>\n",
       "    <tr>\n",
       "      <th>0</th>\n",
       "      <td>1-Oct-2020</td>\n",
       "      <td>Morning</td>\n",
       "      <td>WA</td>\n",
       "      <td>Kids</td>\n",
       "      <td>8</td>\n",
       "      <td>20000</td>\n",
       "      <td>1</td>\n",
       "    </tr>\n",
       "    <tr>\n",
       "      <th>1</th>\n",
       "      <td>1-Oct-2020</td>\n",
       "      <td>Morning</td>\n",
       "      <td>WA</td>\n",
       "      <td>Men</td>\n",
       "      <td>8</td>\n",
       "      <td>20000</td>\n",
       "      <td>1</td>\n",
       "    </tr>\n",
       "    <tr>\n",
       "      <th>2</th>\n",
       "      <td>1-Oct-2020</td>\n",
       "      <td>Morning</td>\n",
       "      <td>WA</td>\n",
       "      <td>Women</td>\n",
       "      <td>4</td>\n",
       "      <td>10000</td>\n",
       "      <td>1</td>\n",
       "    </tr>\n",
       "    <tr>\n",
       "      <th>3</th>\n",
       "      <td>1-Oct-2020</td>\n",
       "      <td>Morning</td>\n",
       "      <td>WA</td>\n",
       "      <td>Seniors</td>\n",
       "      <td>15</td>\n",
       "      <td>37500</td>\n",
       "      <td>1</td>\n",
       "    </tr>\n",
       "    <tr>\n",
       "      <th>4</th>\n",
       "      <td>1-Oct-2020</td>\n",
       "      <td>Afternoon</td>\n",
       "      <td>WA</td>\n",
       "      <td>Kids</td>\n",
       "      <td>3</td>\n",
       "      <td>7500</td>\n",
       "      <td>2</td>\n",
       "    </tr>\n",
       "  </tbody>\n",
       "</table>\n",
       "</div>"
      ],
      "text/plain": [
       "         Date       Time State     Group  Unit  Sales  time_encod\n",
       "0  1-Oct-2020    Morning    WA      Kids     8  20000           1\n",
       "1  1-Oct-2020    Morning    WA       Men     8  20000           1\n",
       "2  1-Oct-2020    Morning    WA     Women     4  10000           1\n",
       "3  1-Oct-2020    Morning    WA   Seniors    15  37500           1\n",
       "4  1-Oct-2020  Afternoon    WA      Kids     3   7500           2"
      ]
     },
     "execution_count": 5,
     "metadata": {},
     "output_type": "execute_result"
    }
   ],
   "source": [
    "Time_map = {\"Morning\": 1, \"Afternoon\": 2, \"Evening\": 3}\n",
    "data['Time'] = data['Time'].str.strip() \n",
    "data['time_encod'] = data.Time.map(Time_map)\n",
    "data.head()"
   ]
  },
  {
   "cell_type": "code",
   "execution_count": 6,
   "id": "d1967924-c675-4921-85c8-764c5d4c865b",
   "metadata": {},
   "outputs": [
    {
     "data": {
      "text/html": [
       "<div>\n",
       "<style scoped>\n",
       "    .dataframe tbody tr th:only-of-type {\n",
       "        vertical-align: middle;\n",
       "    }\n",
       "\n",
       "    .dataframe tbody tr th {\n",
       "        vertical-align: top;\n",
       "    }\n",
       "\n",
       "    .dataframe thead th {\n",
       "        text-align: right;\n",
       "    }\n",
       "</style>\n",
       "<table border=\"1\" class=\"dataframe\">\n",
       "  <thead>\n",
       "    <tr style=\"text-align: right;\">\n",
       "      <th></th>\n",
       "      <th>Date</th>\n",
       "      <th>Time</th>\n",
       "      <th>State</th>\n",
       "      <th>Group</th>\n",
       "      <th>Unit</th>\n",
       "      <th>Sales</th>\n",
       "      <th>time_encod</th>\n",
       "      <th>group_encod</th>\n",
       "    </tr>\n",
       "  </thead>\n",
       "  <tbody>\n",
       "    <tr>\n",
       "      <th>0</th>\n",
       "      <td>1-Oct-2020</td>\n",
       "      <td>Morning</td>\n",
       "      <td>WA</td>\n",
       "      <td>Kids</td>\n",
       "      <td>8</td>\n",
       "      <td>20000</td>\n",
       "      <td>1</td>\n",
       "      <td>1</td>\n",
       "    </tr>\n",
       "    <tr>\n",
       "      <th>1</th>\n",
       "      <td>1-Oct-2020</td>\n",
       "      <td>Morning</td>\n",
       "      <td>WA</td>\n",
       "      <td>Men</td>\n",
       "      <td>8</td>\n",
       "      <td>20000</td>\n",
       "      <td>1</td>\n",
       "      <td>2</td>\n",
       "    </tr>\n",
       "    <tr>\n",
       "      <th>2</th>\n",
       "      <td>1-Oct-2020</td>\n",
       "      <td>Morning</td>\n",
       "      <td>WA</td>\n",
       "      <td>Women</td>\n",
       "      <td>4</td>\n",
       "      <td>10000</td>\n",
       "      <td>1</td>\n",
       "      <td>3</td>\n",
       "    </tr>\n",
       "    <tr>\n",
       "      <th>3</th>\n",
       "      <td>1-Oct-2020</td>\n",
       "      <td>Morning</td>\n",
       "      <td>WA</td>\n",
       "      <td>Seniors</td>\n",
       "      <td>15</td>\n",
       "      <td>37500</td>\n",
       "      <td>1</td>\n",
       "      <td>4</td>\n",
       "    </tr>\n",
       "    <tr>\n",
       "      <th>4</th>\n",
       "      <td>1-Oct-2020</td>\n",
       "      <td>Afternoon</td>\n",
       "      <td>WA</td>\n",
       "      <td>Kids</td>\n",
       "      <td>3</td>\n",
       "      <td>7500</td>\n",
       "      <td>2</td>\n",
       "      <td>1</td>\n",
       "    </tr>\n",
       "  </tbody>\n",
       "</table>\n",
       "</div>"
      ],
      "text/plain": [
       "         Date       Time State    Group  Unit  Sales  time_encod  group_encod\n",
       "0  1-Oct-2020    Morning    WA     Kids     8  20000           1            1\n",
       "1  1-Oct-2020    Morning    WA      Men     8  20000           1            2\n",
       "2  1-Oct-2020    Morning    WA    Women     4  10000           1            3\n",
       "3  1-Oct-2020    Morning    WA  Seniors    15  37500           1            4\n",
       "4  1-Oct-2020  Afternoon    WA     Kids     3   7500           2            1"
      ]
     },
     "execution_count": 6,
     "metadata": {},
     "output_type": "execute_result"
    }
   ],
   "source": [
    "Group_map = {\"Kids\": 1, \"Men\": 2, \"Women\": 3, \"Seniors\": 4}\n",
    "data['Group'] = data['Group'].str.strip() \n",
    "data['group_encod'] = data.Group.map(Group_map)\n",
    "data.head()"
   ]
  },
  {
   "cell_type": "code",
   "execution_count": 7,
   "id": "0aad6c9a-69ed-4e0b-9ce7-6dcd0eb06aeb",
   "metadata": {},
   "outputs": [
    {
     "data": {
      "text/html": [
       "<div>\n",
       "<style scoped>\n",
       "    .dataframe tbody tr th:only-of-type {\n",
       "        vertical-align: middle;\n",
       "    }\n",
       "\n",
       "    .dataframe tbody tr th {\n",
       "        vertical-align: top;\n",
       "    }\n",
       "\n",
       "    .dataframe thead th {\n",
       "        text-align: right;\n",
       "    }\n",
       "</style>\n",
       "<table border=\"1\" class=\"dataframe\">\n",
       "  <thead>\n",
       "    <tr style=\"text-align: right;\">\n",
       "      <th></th>\n",
       "      <th>Date</th>\n",
       "      <th>Time</th>\n",
       "      <th>State</th>\n",
       "      <th>Group</th>\n",
       "      <th>Unit</th>\n",
       "      <th>Sales</th>\n",
       "      <th>time_encod</th>\n",
       "      <th>group_encod</th>\n",
       "    </tr>\n",
       "  </thead>\n",
       "  <tbody>\n",
       "    <tr>\n",
       "      <th>0</th>\n",
       "      <td>1-Oct-2020</td>\n",
       "      <td>Morning</td>\n",
       "      <td>WA</td>\n",
       "      <td>Kids</td>\n",
       "      <td>0.095238</td>\n",
       "      <td>0.095238</td>\n",
       "      <td>1</td>\n",
       "      <td>1</td>\n",
       "    </tr>\n",
       "    <tr>\n",
       "      <th>1</th>\n",
       "      <td>1-Oct-2020</td>\n",
       "      <td>Morning</td>\n",
       "      <td>WA</td>\n",
       "      <td>Men</td>\n",
       "      <td>0.095238</td>\n",
       "      <td>0.095238</td>\n",
       "      <td>1</td>\n",
       "      <td>2</td>\n",
       "    </tr>\n",
       "    <tr>\n",
       "      <th>2</th>\n",
       "      <td>1-Oct-2020</td>\n",
       "      <td>Morning</td>\n",
       "      <td>WA</td>\n",
       "      <td>Women</td>\n",
       "      <td>0.031746</td>\n",
       "      <td>0.031746</td>\n",
       "      <td>1</td>\n",
       "      <td>3</td>\n",
       "    </tr>\n",
       "    <tr>\n",
       "      <th>3</th>\n",
       "      <td>1-Oct-2020</td>\n",
       "      <td>Morning</td>\n",
       "      <td>WA</td>\n",
       "      <td>Seniors</td>\n",
       "      <td>0.206349</td>\n",
       "      <td>0.206349</td>\n",
       "      <td>1</td>\n",
       "      <td>4</td>\n",
       "    </tr>\n",
       "    <tr>\n",
       "      <th>4</th>\n",
       "      <td>1-Oct-2020</td>\n",
       "      <td>Afternoon</td>\n",
       "      <td>WA</td>\n",
       "      <td>Kids</td>\n",
       "      <td>0.015873</td>\n",
       "      <td>0.015873</td>\n",
       "      <td>2</td>\n",
       "      <td>1</td>\n",
       "    </tr>\n",
       "  </tbody>\n",
       "</table>\n",
       "</div>"
      ],
      "text/plain": [
       "         Date       Time State    Group      Unit     Sales  time_encod  \\\n",
       "0  1-Oct-2020    Morning    WA     Kids  0.095238  0.095238           1   \n",
       "1  1-Oct-2020    Morning    WA      Men  0.095238  0.095238           1   \n",
       "2  1-Oct-2020    Morning    WA    Women  0.031746  0.031746           1   \n",
       "3  1-Oct-2020    Morning    WA  Seniors  0.206349  0.206349           1   \n",
       "4  1-Oct-2020  Afternoon    WA     Kids  0.015873  0.015873           2   \n",
       "\n",
       "   group_encod  \n",
       "0            1  \n",
       "1            2  \n",
       "2            3  \n",
       "3            4  \n",
       "4            1  "
      ]
     },
     "execution_count": 7,
     "metadata": {},
     "output_type": "execute_result"
    }
   ],
   "source": [
    "from sklearn.preprocessing import MinMaxScaler\n",
    "\n",
    "columns_to_normalize = ['Sales', 'Unit']\n",
    "scaler = MinMaxScaler()\n",
    "data[columns_to_normalize] = scaler.fit_transform(data[columns_to_normalize])\n",
    "\n",
    "data.head()"
   ]
  },
  {
   "cell_type": "code",
   "execution_count": 8,
   "id": "82d5cbe5-e8d1-47f8-b50a-60785a9b7002",
   "metadata": {},
   "outputs": [],
   "source": [
    "state_sales = data.groupby('State')['Sales'].sum().reset_index()\n",
    "group_sales = data.groupby('Group')['Sales'].sum().reset_index()"
   ]
  },
  {
   "cell_type": "markdown",
   "id": "4d72b8c3-da4c-4ca1-95f7-1c6ffe3acce1",
   "metadata": {},
   "source": [
    "### Data Analysis"
   ]
  },
  {
   "cell_type": "code",
   "execution_count": 9,
   "id": "880f831c-c321-499c-9861-8e636e28f778",
   "metadata": {},
   "outputs": [
    {
     "name": "stdout",
     "output_type": "stream",
     "text": [
      "Sales mean:  0.25405433778449654\n",
      "Sales median:  0.1904761904761905\n",
      "Sales mode : 0.1111111111111111\n",
      "Sales Standard Deviation : 0.2047841710728009\n"
     ]
    }
   ],
   "source": [
    "sales_mean = data['Sales'].mean()\n",
    "sales_median = data['Sales'].median()\n",
    "sales_mode = data['Sales'].mode()[0]\n",
    "sales_std = data['Sales'].std()\n",
    "print(\"Sales mean: \",sales_mean)\n",
    "print(\"Sales median: \",sales_median)\n",
    "print(\"Sales mode :\",sales_mode)\n",
    "print(\"Sales Standard Deviation :\",sales_std)"
   ]
  },
  {
   "cell_type": "markdown",
   "id": "fd78852e-559a-4a1a-b71b-0c12fdc71f6a",
   "metadata": {},
   "source": [
    "#### Observation\n",
    "\n",
    "*1.* The mean sales value indicates the average normalized sales across all states and demographic groups. This value suggests a moderate level of sales performance when compared to the maximum normalized sales value of 1.\n",
    "\n",
    "*2.* The median, is lower than the mean and Mode is lower than Median. This implies a right-skewed distribution, indicating that while some states or demographic groups are performing well (pushing the mean up), many are performing below average.\n",
    "\n",
    "*3.* Mode is much lower than mean, which means there are alot of values which are below average or states or demographic group which has performed below average.\n",
    "\n",
    "*4* A relatively high standard deviation compared to the mean suggests that there is considerable variation in sales performance across different states or demographic groups. Some states likely have much higher sales, while others have significantly lower sales."
   ]
  },
  {
   "cell_type": "code",
   "execution_count": 10,
   "id": "233a98f9-55c7-4987-99cd-f5f68987c047",
   "metadata": {},
   "outputs": [],
   "source": [
    "data['Date'] = pd.to_datetime(data['Date'])\n",
    "\n",
    "data['Day'] = data['Date'].dt.day\n",
    "data['Week'] = data['Date'].dt.isocalendar().week\n",
    "data['Month'] = data['Date'].dt.month\n",
    "data['Quarter'] = data['Date'].dt.quarter\n",
    "\n",
    "weekly_sales = data.groupby('Week')['Sales'].sum()\n",
    "monthly_sales = data.groupby('Month')['Sales'].sum()\n",
    "quarterly_sales = data.groupby('Quarter')['Sales'].sum()"
   ]
  },
  {
   "cell_type": "code",
   "execution_count": 11,
   "id": "8fd55b8c-d372-4b51-80be-909f31d44c79",
   "metadata": {},
   "outputs": [
    {
     "data": {
      "text/html": [
       "<div>\n",
       "<style scoped>\n",
       "    .dataframe tbody tr th:only-of-type {\n",
       "        vertical-align: middle;\n",
       "    }\n",
       "\n",
       "    .dataframe tbody tr th {\n",
       "        vertical-align: top;\n",
       "    }\n",
       "\n",
       "    .dataframe thead th {\n",
       "        text-align: right;\n",
       "    }\n",
       "</style>\n",
       "<table border=\"1\" class=\"dataframe\">\n",
       "  <thead>\n",
       "    <tr style=\"text-align: right;\">\n",
       "      <th></th>\n",
       "      <th>Sales</th>\n",
       "    </tr>\n",
       "    <tr>\n",
       "      <th>Week</th>\n",
       "      <th></th>\n",
       "    </tr>\n",
       "  </thead>\n",
       "  <tbody>\n",
       "    <tr>\n",
       "      <th>40</th>\n",
       "      <td>84.857143</td>\n",
       "    </tr>\n",
       "    <tr>\n",
       "      <th>41</th>\n",
       "      <td>152.777778</td>\n",
       "    </tr>\n",
       "    <tr>\n",
       "      <th>42</th>\n",
       "      <td>150.476190</td>\n",
       "    </tr>\n",
       "    <tr>\n",
       "      <th>43</th>\n",
       "      <td>151.587302</td>\n",
       "    </tr>\n",
       "    <tr>\n",
       "      <th>44</th>\n",
       "      <td>122.460317</td>\n",
       "    </tr>\n",
       "    <tr>\n",
       "      <th>45</th>\n",
       "      <td>113.809524</td>\n",
       "    </tr>\n",
       "    <tr>\n",
       "      <th>46</th>\n",
       "      <td>115.761905</td>\n",
       "    </tr>\n",
       "    <tr>\n",
       "      <th>47</th>\n",
       "      <td>115.380952</td>\n",
       "    </tr>\n",
       "    <tr>\n",
       "      <th>48</th>\n",
       "      <td>117.698413</td>\n",
       "    </tr>\n",
       "    <tr>\n",
       "      <th>49</th>\n",
       "      <td>169.412698</td>\n",
       "    </tr>\n",
       "    <tr>\n",
       "      <th>50</th>\n",
       "      <td>181.492063</td>\n",
       "    </tr>\n",
       "    <tr>\n",
       "      <th>51</th>\n",
       "      <td>182.317460</td>\n",
       "    </tr>\n",
       "    <tr>\n",
       "      <th>52</th>\n",
       "      <td>183.047619</td>\n",
       "    </tr>\n",
       "    <tr>\n",
       "      <th>53</th>\n",
       "      <td>79.571429</td>\n",
       "    </tr>\n",
       "  </tbody>\n",
       "</table>\n",
       "</div>"
      ],
      "text/plain": [
       "           Sales\n",
       "Week            \n",
       "40     84.857143\n",
       "41    152.777778\n",
       "42    150.476190\n",
       "43    151.587302\n",
       "44    122.460317\n",
       "45    113.809524\n",
       "46    115.761905\n",
       "47    115.380952\n",
       "48    117.698413\n",
       "49    169.412698\n",
       "50    181.492063\n",
       "51    182.317460\n",
       "52    183.047619\n",
       "53     79.571429"
      ]
     },
     "execution_count": 11,
     "metadata": {},
     "output_type": "execute_result"
    }
   ],
   "source": [
    "weekly_sales = pd.DataFrame(weekly_sales)\n",
    "weekly_sales"
   ]
  },
  {
   "cell_type": "markdown",
   "id": "008cc695-0ffd-4e42-bee7-15942eabbbdb",
   "metadata": {},
   "source": [
    "#### Observation\n",
    "\n",
    "Steady Increase in Sales (Weeks 40 to 52):\n",
    "- Sales started at 84.86 in week 40 and steadily increased, peaking at 183.05 in week 52.\n",
    "The weeks leading to Week 52 show an upward trend, which could be attributed to holiday season sales or end-of-year promotional activities.\n",
    "\n",
    "Sharp Dip in Week 53:\n",
    "- After reaching a peak in week 52, there is a sharp drop in sales in week 53, falling to 79.57. This decline may represent the post-holiday sales slump or the typical end-of-year slowdown.\n",
    "\n",
    "Highest Sales:\n",
    "- The highest sales occurred in Week 52 with 183.05, likely driven by year-end festivities or promotions.\n",
    "\n",
    "Lowest Sales:\n",
    "- The lowest sales were recorded in Week 40 with 84.86, which is significantly lower compared to the subsequent weeks."
   ]
  },
  {
   "cell_type": "code",
   "execution_count": 12,
   "id": "fab35e21-7f3b-4597-be95-ed078edf454f",
   "metadata": {},
   "outputs": [
    {
     "data": {
      "text/html": [
       "<div>\n",
       "<style scoped>\n",
       "    .dataframe tbody tr th:only-of-type {\n",
       "        vertical-align: middle;\n",
       "    }\n",
       "\n",
       "    .dataframe tbody tr th {\n",
       "        vertical-align: top;\n",
       "    }\n",
       "\n",
       "    .dataframe thead th {\n",
       "        text-align: right;\n",
       "    }\n",
       "</style>\n",
       "<table border=\"1\" class=\"dataframe\">\n",
       "  <thead>\n",
       "    <tr style=\"text-align: right;\">\n",
       "      <th></th>\n",
       "      <th>Sales</th>\n",
       "    </tr>\n",
       "    <tr>\n",
       "      <th>Month</th>\n",
       "      <th></th>\n",
       "    </tr>\n",
       "  </thead>\n",
       "  <tbody>\n",
       "    <tr>\n",
       "      <th>10</th>\n",
       "      <td>645.650794</td>\n",
       "    </tr>\n",
       "    <tr>\n",
       "      <th>11</th>\n",
       "      <td>495.761905</td>\n",
       "    </tr>\n",
       "    <tr>\n",
       "      <th>12</th>\n",
       "      <td>779.238095</td>\n",
       "    </tr>\n",
       "  </tbody>\n",
       "</table>\n",
       "</div>"
      ],
      "text/plain": [
       "            Sales\n",
       "Month            \n",
       "10     645.650794\n",
       "11     495.761905\n",
       "12     779.238095"
      ]
     },
     "execution_count": 12,
     "metadata": {},
     "output_type": "execute_result"
    }
   ],
   "source": [
    "monthly_sales = pd.DataFrame(monthly_sales)\n",
    "monthly_sales"
   ]
  },
  {
   "cell_type": "markdown",
   "id": "f1623783-e023-4903-bbf4-c1309e1d8d1a",
   "metadata": {},
   "source": [
    "#### Observation\n",
    "\n",
    "Highest Sales in December:\n",
    "- December has the highest sales, totaling 779.24, 56.9% jump in sales from November to December is significant. This increase is likely due to holiday-related shopping, including Christmas and end-of-year promotions.\n",
    "\n",
    "October vs. November:\n",
    "--October's sales are relatively high, with 645.65, but November experiences a decline to 495.76, a drop of around 23.2%. This may indicate a brief lull before the holiday rush in December."
   ]
  },
  {
   "cell_type": "code",
   "execution_count": 13,
   "id": "8d956900-9cdd-44eb-93f7-6f3e75b6369e",
   "metadata": {},
   "outputs": [
    {
     "data": {
      "text/html": [
       "<div>\n",
       "<style scoped>\n",
       "    .dataframe tbody tr th:only-of-type {\n",
       "        vertical-align: middle;\n",
       "    }\n",
       "\n",
       "    .dataframe tbody tr th {\n",
       "        vertical-align: top;\n",
       "    }\n",
       "\n",
       "    .dataframe thead th {\n",
       "        text-align: right;\n",
       "    }\n",
       "</style>\n",
       "<table border=\"1\" class=\"dataframe\">\n",
       "  <thead>\n",
       "    <tr style=\"text-align: right;\">\n",
       "      <th></th>\n",
       "      <th>Sales</th>\n",
       "    </tr>\n",
       "    <tr>\n",
       "      <th>Quarter</th>\n",
       "      <th></th>\n",
       "    </tr>\n",
       "  </thead>\n",
       "  <tbody>\n",
       "    <tr>\n",
       "      <th>4</th>\n",
       "      <td>1920.650794</td>\n",
       "    </tr>\n",
       "  </tbody>\n",
       "</table>\n",
       "</div>"
      ],
      "text/plain": [
       "               Sales\n",
       "Quarter             \n",
       "4        1920.650794"
      ]
     },
     "execution_count": 13,
     "metadata": {},
     "output_type": "execute_result"
    }
   ],
   "source": [
    "quarterly_sales = pd.DataFrame(quarterly_sales)\n",
    "quarterly_sales"
   ]
  },
  {
   "cell_type": "markdown",
   "id": "dbf0cef6-b836-47da-b68d-e090568e1f33",
   "metadata": {},
   "source": [
    "### Data Visualisation"
   ]
  },
  {
   "cell_type": "code",
   "execution_count": 14,
   "id": "2ea72292-bf4f-4d32-870a-0f679f50863b",
   "metadata": {},
   "outputs": [
    {
     "data": {
      "image/png": "[encoded data removed]",
      "text/plain": [
       "<Figure size 1000x600 with 1 Axes>"
      ]
     },
     "metadata": {},
     "output_type": "display_data"
    }
   ],
   "source": [
    "plt.figure(figsize=(10,6))\n",
    "sns.barplot(data=data, x='State', y='Sales', hue='Group')\n",
    "plt.title('State-wise Sales by Group')\n",
    "plt.show()"
   ]
  },
  {
   "cell_type": "markdown",
   "id": "368fafdc-7228-4222-aac0-366d8dcbbe65",
   "metadata": {},
   "source": [
    "#### Observation\n",
    "\n",
    "- Victoria (VIC): Highest sales across all groups (Kids, Men, Women, Seniors) with normalized values around 0.6.\n",
    "- New South Wales (NSW): Second-best performer, with sales around 0.4 across all groups.\n",
    "- South Australia (SA): Moderate sales, around 0.3 for all groups.\n",
    "- Queensland (QLD): Sales around 0.2, showing potential but behind NSW, VIC, and SA.\n",
    "- Western Australia (WA), Northern Territory (NT), Tasmania (TAS): Lowest sales, with values around 0.1 or slightly higher. Tasmania slightly lags behind WA and NT.\n",
    "\n",
    "#### Recommendation\n",
    "\n",
    "- Expand in VIC and NSW: Reinforce sales with loyalty programs and new product launches.\n",
    "- Boost WA, NT, TAS: Prioritize Tasmania with targeted campaigns and discounts.\n",
    "- Leverage Group Consistency: Maintain balanced marketing; explore product-specific growth opportunities."
   ]
  },
  {
   "cell_type": "code",
   "execution_count": 15,
   "id": "8f5133c7-dae6-4928-8fd1-68a71ce3456d",
   "metadata": {},
   "outputs": [
    {
     "data": {
      "image/png": "[encoded data removed]",
      "text/plain": [
       "<Figure size 800x500 with 1 Axes>"
      ]
     },
     "metadata": {},
     "output_type": "display_data"
    }
   ],
   "source": [
    "grouped_sales = data.groupby([ 'Group'])['Sales'].sum().reset_index()\n",
    "\n",
    "# Plotting the grouped sales data\n",
    "plt.figure(figsize=(8, 5))\n",
    "sns.barplot(data=grouped_sales, x='Group', y='Sales')\n",
    "plt.title('Group-wise Sales Analysis Across Various States', fontsize=16)\n",
    "plt.xlabel('State', fontsize=12)\n",
    "plt.ylabel('Total Sales', fontsize=12)\n",
    "plt.xticks(rotation=45)\n",
    "#plt.legend(title=\"Group\")\n",
    "plt.tight_layout()\n",
    "plt.show()"
   ]
  },
  {
   "cell_type": "markdown",
   "id": "0ce9fc9b-e9e7-4c67-8bdd-3dff103a1611",
   "metadata": {},
   "source": [
    "#### Observation\n",
    "\n",
    "- Balanced Sales: The sales across the demographic groups (Kids, Men, Seniors, and Women) are very similar, with only slight variations.\n",
    "\n",
    "- No Significant Outlier: None of the groups stands out as an underperformer or overperformer, indicating consistency in sales distribution across different groups."
   ]
  },
  {
   "cell_type": "code",
   "execution_count": 16,
   "id": "4f2b1bd1-c167-4bd4-9754-19d536072a7b",
   "metadata": {},
   "outputs": [
    {
     "data": {
      "image/png": "[encoded data removed]",
      "text/plain": [
       "<Figure size 800x500 with 1 Axes>"
      ]
     },
     "metadata": {},
     "output_type": "display_data"
    }
   ],
   "source": [
    "plt.figure(figsize=(8,5))\n",
    "sns.barplot(data=data, x='Time', y='Sales')\n",
    "plt.title('Sales by Time of Day')\n",
    "plt.show()"
   ]
  },
  {
   "cell_type": "markdown",
   "id": "25ea7208-1adc-4817-a568-c9b116008ca6",
   "metadata": {},
   "source": [
    "#### Observation\n",
    "\n",
    "- Balanced Sales: Sales are relatively consistent across the time periods, with only slight differences. All periods show sales values slightly above 0.25.\n",
    "- Morning Slightly Ahead: Sales during the Morning are marginally higher compared to the Afternoon and Evening, but the difference is not substantial."
   ]
  },
  {
   "cell_type": "code",
   "execution_count": 17,
   "id": "8dc29c2f-1c5f-4dca-a28c-9192cf9ce553",
   "metadata": {},
   "outputs": [
    {
     "data": {
      "image/png": "[encoded data removed]",
      "text/plain": [
       "<Figure size 800x500 with 1 Axes>"
      ]
     },
     "metadata": {},
     "output_type": "display_data"
    },
    {
     "data": {
      "image/png": "[encoded data removed]",
      "text/plain": [
       "<Figure size 800x500 with 1 Axes>"
      ]
     },
     "metadata": {},
     "output_type": "display_data"
    }
   ],
   "source": [
    "plt.figure(figsize=(8,5))\n",
    "sns.lineplot(data=weekly_sales)\n",
    "plt.title('Weekly Sales')\n",
    "plt.show()\n",
    "\n",
    "plt.figure(figsize=(8,5))\n",
    "sns.lineplot(data=monthly_sales)\n",
    "plt.title('Monthly Sales')\n",
    "plt.xticks(ticks=[10, 11, 12], labels=['October', 'November', 'December'])\n",
    "plt.show()"
   ]
  },
  {
   "cell_type": "markdown",
   "id": "c6c57d9b-8840-47e4-91d0-eb9d31fc60eb",
   "metadata": {},
   "source": [
    "### Observation \n",
    "\n",
    "- **Weekly insight**\n",
    "  \n",
    "    - Weeks 40-42: Sharp sales increase, peaking at 160 units.\n",
    "    - Weeks 43-46: Gradual decline, hitting just over 100 units.\n",
    "    - Weeks 47-51: Sales rise again, peaking at 180 units.\n",
    "    - Week 53: Sharp drop, sales fall below 100 units.\n",
    "---------------------------------------------------------------------------------------------------------------------------------------------------\n",
    "- **Monthly insight**\n",
    "    - October: The month begins with strong sales. This suggests a healthy sales performance at the start of the fourth quarter, possibly driven by seasonal demand or promotions.\n",
    "\n",
    "    - November: A sharp decline is observed. This could be due to factors like lower seasonal demand, fewer promotions, or external market influences causing a dip in consumer activity.\n",
    "\n",
    "    - December: Sales make a strong recovery. This increase likely reflects holiday shopping, end-of-year promotions, or other seasonal factors that typically drive higher consumer spending during December."
   ]
  },
  {
   "cell_type": "code",
   "execution_count": 30,
   "id": "68234b19-8049-4fc5-be68-4f5f5aaf895c",
   "metadata": {},
   "outputs": [
    {
     "data": {
      "image/png": "[encoded data removed]",
      "text/plain": [
       "<Figure size 800x500 with 1 Axes>"
      ]
     },
     "metadata": {},
     "output_type": "display_data"
    },
    {
     "data": {
      "image/png": "[encoded data removed]",
      "text/plain": [
       "<Figure size 800x500 with 1 Axes>"
      ]
     },
     "metadata": {},
     "output_type": "display_data"
    }
   ],
   "source": [
    "plt.figure(figsize=(8,5))\n",
    "sns.boxplot(data=weekly_sales)\n",
    "plt.title('Box Plot of Weekly Sales')\n",
    "plt.show()\n",
    "\n",
    "# Box plot for Monthly Sales\n",
    "plt.figure(figsize=(8,5))\n",
    "sns.boxplot(data=monthly_sales)\n",
    "plt.title('Box Plot of Monthly Sales')\n",
    "plt.show()"
   ]
  },
  {
   "cell_type": "markdown",
   "id": "2d93ced5-d8ba-4513-8593-d0f4afbc16e9",
   "metadata": {},
   "source": [
    "There aren't any outliers which means that there aren't any unexpectable rise in any week or any month."
   ]
  },
  {
   "cell_type": "code",
   "execution_count": 35,
   "id": "cbc243c8-1161-458b-ae30-f2f9bac2a7d7",
   "metadata": {},
   "outputs": [
    {
     "data": {
      "text/plain": [
       "<Axes: ylabel='Count'>"
      ]
     },
     "execution_count": 35,
     "metadata": {},
     "output_type": "execute_result"
    },
    {
     "data": {
      "image/png": "[encoded data removed]",
      "text/plain": [
       "<Figure size 640x480 with 1 Axes>"
      ]
     },
     "metadata": {},
     "output_type": "display_data"
    }
   ],
   "source": []
  },
  {
   "cell_type": "code",
   "execution_count": null,
   "id": "34b4cd51-10d5-4cf7-bcbc-4ecc86ff64cf",
   "metadata": {},
   "outputs": [],
   "source": []
  }
 ],
 "metadata": {
  "kernelspec": {
   "display_name": "Python 3 (ipykernel)",
   "language": "python",
   "name": "python3"
  },
  "language_info": {
   "codemirror_mode": {
    "name": "ipython",
    "version": 3
   },
   "file_extension": ".py",
   "mimetype": "text/x-python",
   "name": "python",
   "nbconvert_exporter": "python",
   "pygments_lexer": "ipython3",
   "version": "3.12.4"
  }
 },
 "nbformat": 4,
 "nbformat_minor": 5
}
